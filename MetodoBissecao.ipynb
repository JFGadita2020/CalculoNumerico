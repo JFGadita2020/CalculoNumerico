{
  "nbformat": 4,
  "nbformat_minor": 0,
  "metadata": {
    "colab": {
      "provenance": [],
      "collapsed_sections": [],
      "authorship_tag": "ABX9TyOenDxphnGjVLOHkvMXj+KF",
      "include_colab_link": true
    },
    "kernelspec": {
      "name": "python3",
      "display_name": "Python 3"
    },
    "language_info": {
      "name": "python"
    }
  },
  "cells": [
    {
      "cell_type": "markdown",
      "metadata": {
        "id": "view-in-github",
        "colab_type": "text"
      },
      "source": [
        "<a href=\"https://colab.research.google.com/github/JFGoes/CalculoNumerico/blob/master/MetodoBissecao.ipynb\" target=\"_parent\"><img src=\"https://colab.research.google.com/assets/colab-badge.svg\" alt=\"Open In Colab\"/></a>"
      ]
    },
    {
      "cell_type": "markdown",
      "source": [
        "# Método da Bisseção"
      ],
      "metadata": {
        "id": "JgWVjoDjv08Z"
      }
    },
    {
      "cell_type": "code",
      "execution_count": 2,
      "metadata": {
        "id": "cHgcS3-kt6Ak"
      },
      "outputs": [],
      "source": [
        "from sympy.plotting import *\n",
        "import sympy as sp\n",
        "from math import log, ceil"
      ]
    },
    {
      "cell_type": "code",
      "source": [
        "x = sp.Symbol('x')#Define uma variável"
      ],
      "metadata": {
        "id": "ehKprcrvuE3m"
      },
      "execution_count": 3,
      "outputs": []
    },
    {
      "cell_type": "code",
      "source": [
        "#funcao = x**4 - 2 * x**3 - 4 * x**2+ 4*x + 4\n",
        "funcao = x**3 - 9*x + 3"
      ],
      "metadata": {
        "id": "_ObPlqpoua5S"
      },
      "execution_count": 4,
      "outputs": []
    },
    {
      "cell_type": "code",
      "source": [
        "plot(funcao,(x,-2,2))"
      ],
      "metadata": {
        "colab": {
          "base_uri": "https://localhost:8080/",
          "height": 315
        },
        "id": "PrQndcJtuwAv",
        "outputId": "c2aba326-e14d-46ac-b412-424936725c61"
      },
      "execution_count": 5,
      "outputs": [
        {
          "output_type": "display_data",
          "data": {
            "text/plain": [
              "<Figure size 432x288 with 1 Axes>"
            ],
            "image/png": "[encoded data removed]"
          },
          "metadata": {
            "needs_background": "light"
          }
        },
        {
          "output_type": "execute_result",
          "data": {
            "text/plain": [
              "<sympy.plotting.plot.Plot at 0x7f6efc7bfb10>"
            ]
          },
          "metadata": {},
          "execution_count": 5
        }
      ]
    },
    {
      "cell_type": "markdown",
      "source": [
        "Definição da função para obter as raizes, $f(x) = 0$"
      ],
      "metadata": {
        "id": "BTrLtst7ws3k"
      }
    },
    {
      "cell_type": "code",
      "source": [
        "#definir uma função\n",
        "def f(x):\n",
        "  #return x**4 - 2 * x**3 - 4 * x**2+ 4*x + 4\n",
        "  return x**3 - 9*x + 3"
      ],
      "metadata": {
        "id": "-SDU3-8lu2im"
      },
      "execution_count": 6,
      "outputs": []
    },
    {
      "cell_type": "code",
      "source": [
        "\n"
      ],
      "metadata": {
        "id": "fnLUtTalCIlw"
      },
      "execution_count": null,
      "outputs": []
    },
    {
      "cell_type": "markdown",
      "source": [
        "Método da bisseção implementado a partir do algoritmo do livro cálculo numérico - Rugiere"
      ],
      "metadata": {
        "id": "C7h2GI90w1YA"
      }
    },
    {
      "cell_type": "code",
      "source": [
        "#implementacao do metodo da Bisseção\n",
        "\n",
        "def MBissecao(a,b,tol,iter_max=100):\n",
        "  iter = 1 # contador das iterações\n",
        "  fa = f(a) # avaliacao da função na extremidade inferior do intervalo: a\n",
        "  fb = f(b) # avaliacao da função na extremidade superior do intervalo: b\n",
        "\n",
        "  print(f'{\"Iter\":^5}| {\"a\":^9}| {\"b\":^9}| {\"x\":^9}| {\"fx\":^9}| {\"b-a\":^9}')\n",
        "  print('-----|----------|----------|----------|----------|-----------')\n",
        "\n",
        "  while iter < iter_max:#Critério de parada  caso a fução não convirja até iter_max\n",
        "    x = (a + b)/2 # media do intervalo para obter o valor de x\n",
        "\n",
        "    fa = f(a) #avaliação da função no ponto a: f(a)\n",
        "    fx = f(x) #avaliação da função no ponto x: f(x)\n",
        "\n",
        "    print(f'{iter:^5}| {a:^9.6f}| {b:^9.6f}| {x:^9.6f}| {fx:^9.6f}| {abs(b-a):^2.4E}')\n",
        "\n",
        "    iter += 1\n",
        "\n",
        "    if fx == 0 or abs(b-a) < tol: # avaliação de convergência\n",
        "      return (f' A raiz esperada é: {x:.6f}')\n",
        "    \n",
        "    if fa * fx > 0: # Verificação da raiz no intervalo ou não\n",
        "      a = x\n",
        "    else:\n",
        "      b = x\n",
        "  \n",
        "  return 'O método não convergiu após ' + str(iter_max) + 'iterações' "
      ],
      "metadata": {
        "id": "HYVfJuN2vB50"
      },
      "execution_count": 7,
      "outputs": []
    },
    {
      "cell_type": "code",
      "source": [
        "#Raiz no intervalo [1,2]\n",
        "a, b = 0,1\n",
        "err = 10**(-3)\n",
        "k = (log(b-a) -log(err))/log(2)\n",
        "\n",
        "print(f'iterações:{ceil(k)}\\n')\n",
        "MBissecao(a,b,err,100)"
      ],
      "metadata": {
        "colab": {
          "base_uri": "https://localhost:8080/",
          "height": 305
        },
        "id": "mDoiltqvwwQA",
        "outputId": "cd2ca6d3-9c10-4ba2-c2e2-6cca52a18c64"
      },
      "execution_count": 8,
      "outputs": [
        {
          "output_type": "stream",
          "name": "stdout",
          "text": [
            "iterações:10\n",
            "\n",
            "Iter |     a    |     b    |     x    |    fx    |    b-a   \n",
            "-----|----------|----------|----------|----------|-----------\n",
            "  1  | 0.000000 | 1.000000 | 0.500000 | -1.375000| 1.0000E+00\n",
            "  2  | 0.000000 | 0.500000 | 0.250000 | 0.765625 | 5.0000E-01\n",
            "  3  | 0.250000 | 0.500000 | 0.375000 | -0.322266| 2.5000E-01\n",
            "  4  | 0.250000 | 0.375000 | 0.312500 | 0.218018 | 1.2500E-01\n",
            "  5  | 0.312500 | 0.375000 | 0.343750 | -0.053131| 6.2500E-02\n",
            "  6  | 0.312500 | 0.343750 | 0.328125 | 0.082203 | 3.1250E-02\n",
            "  7  | 0.328125 | 0.343750 | 0.335938 | 0.014474 | 1.5625E-02\n",
            "  8  | 0.335938 | 0.343750 | 0.339844 | -0.019344| 7.8125E-03\n",
            "  9  | 0.335938 | 0.339844 | 0.337891 | -0.002439| 3.9062E-03\n",
            " 10  | 0.335938 | 0.337891 | 0.336914 | 0.006017 | 1.9531E-03\n",
            " 11  | 0.336914 | 0.337891 | 0.337402 | 0.001789 | 9.7656E-04\n"
          ]
        },
        {
          "output_type": "execute_result",
          "data": {
            "text/plain": [
              "' A raiz esperada é: 0.337402'"
            ],
            "application/vnd.google.colaboratory.intrinsic+json": {
              "type": "string"
            }
          },
          "metadata": {},
          "execution_count": 8
        }
      ]
    },
    {
      "cell_type": "code",
      "source": [],
      "metadata": {
        "id": "9hejm_2xw8qN"
      },
      "execution_count": null,
      "outputs": []
    }
  ]
}