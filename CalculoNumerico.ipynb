{
  "nbformat": 4,
  "nbformat_minor": 0,
  "metadata": {
    "colab": {
      "name": "CalculoNumerico.ipynb",
      "provenance": [],
      "collapsed_sections": [],
      "toc_visible": true,
      "authorship_tag": "ABX9TyO6gh6HScTc0vSjSwwWgg62",
      "include_colab_link": true
    },
    "kernelspec": {
      "name": "python3",
      "display_name": "Python 3"
    }
  },
  "cells": [
    {
      "cell_type": "markdown",
      "metadata": {
        "id": "view-in-github",
        "colab_type": "text"
      },
      "source": [
        "<a href=\"https://colab.research.google.com/github/JFGadita2020/CalculoNumerico/blob/master/CalculoNumerico.ipynb\" target=\"_parent\"><img src=\"https://colab.research.google.com/assets/colab-badge.svg\" alt=\"Open In Colab\"/></a>"
      ]
    },
    {
      "cell_type": "markdown",
      "metadata": {
        "id": "xa3gE2EnHBbr",
        "colab_type": "text"
      },
      "source": [
        "# Cálculo Numérico Empregando a Linguagem de Programação Python\n",
        "\n",
        "\n",
        "#Organizadores\n",
        "\n",
        "## Professores:\n",
        "*   Josecley Fialho Góes - Instituto de Engenharia e Geociências (IEG)\n",
        "\n",
        "## Colaboradores:\n",
        "### Professores:\n",
        "\n",
        "*   Raimundo Augusto Rêgo Rodrigues Júnior - Instituto de Engenharia e Geociências (IEG)\n",
        "*   Marciana Lima Góes - Instituto de Ciências Educacionais (ICED)\n",
        "*   Claudir Oliveira - Instituto de Ciências Educacionais (ICED)\n",
        "\n",
        "### Alunos\n",
        "\n",
        "*  João Victor Rebelo\n",
        "\n",
        "# Introdução\n"
      ]
    },
    {
      "cell_type": "code",
      "metadata": {
        "id": "sKYXXSn65dcg",
        "colab_type": "code",
        "colab": {}
      },
      "source": [
        ""
      ],
      "execution_count": 0,
      "outputs": []
    },
    {
      "cell_type": "markdown",
      "metadata": {
        "id": "-_giSOyEPKQ0",
        "colab_type": "text"
      },
      "source": [
        "# "
      ]
    },
    {
      "cell_type": "markdown",
      "metadata": {
        "id": "b7vvLnfBHIBk",
        "colab_type": "text"
      },
      "source": [
        ""
      ]
    }
  ]
}